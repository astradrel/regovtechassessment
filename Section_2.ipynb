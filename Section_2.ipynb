{
 "cells": [
  {
   "cell_type": "markdown",
   "id": "1cb9ac5b",
   "metadata": {},
   "source": [
    "# ReGOV Training Assessment - Ahmad Khairi Bin Ahmad Khir"
   ]
  },
  {
   "cell_type": "markdown",
   "id": "4a39092a",
   "metadata": {},
   "source": [
    "## Section 2"
   ]
  },
  {
   "cell_type": "markdown",
   "id": "49fce461",
   "metadata": {},
   "source": [
    "### Question 1"
   ]
  },
  {
   "cell_type": "code",
   "execution_count": 1,
   "id": "77cf3625",
   "metadata": {},
   "outputs": [],
   "source": [
    "# We define the class object Account with its attributes method deposit, withdraw and string representation of the class.\n",
    "\n",
    "class Account:\n",
    "    def __init__(self, Id, name, balance):\n",
    "        self.Id = Id\n",
    "        self.name = name\n",
    "        self.balance = balance\n",
    "\n",
    "    def deposit(self, amount):\n",
    "        self.balance += amount\n",
    "        print(\"RM {:.2f} was deposited into the account of ID {}\".format(amount, self.Id))\n",
    "        \n",
    "    def withdraw(self, amount):\n",
    "        self.balance -= amount\n",
    "        print(\"RM {:.2f} was withdrawed from the account of ID {}\".format(amount, self.Id))\n",
    "\n",
    "    def __str__(self):\n",
    "        return str(\"------Account Balance--------------\\n\\nName: {}\\nAccount ID: {}\\\n",
    "        \\nAccount Balance: RM {:.2f}\\n\\n-----------------------------------\".format(self.name, self.Id, self.balance))"
   ]
  },
  {
   "cell_type": "code",
   "execution_count": 2,
   "id": "f842f905",
   "metadata": {},
   "outputs": [],
   "source": [
    "# Instantiate the class object Account\n",
    "\n",
    "user_1001 = Account(1001,'Gary', 100)"
   ]
  },
  {
   "cell_type": "code",
   "execution_count": 3,
   "id": "9e9f21ee",
   "metadata": {},
   "outputs": [
    {
     "name": "stdout",
     "output_type": "stream",
     "text": [
      "RM 100.00 was deposited into the account of ID 1001\n"
     ]
    }
   ],
   "source": [
    "# Calling deposit method of the class and store the value into the object balance\n",
    "\n",
    "user_1001.deposit(100)"
   ]
  },
  {
   "cell_type": "code",
   "execution_count": 4,
   "id": "0d575ef6",
   "metadata": {},
   "outputs": [
    {
     "name": "stdout",
     "output_type": "stream",
     "text": [
      "------Account Balance--------------\n",
      "\n",
      "Name: Gary\n",
      "Account ID: 1001        \n",
      "Account Balance: RM 200.00\n",
      "\n",
      "-----------------------------------\n"
     ]
    }
   ],
   "source": [
    "print(user_1001)"
   ]
  },
  {
   "cell_type": "code",
   "execution_count": 5,
   "id": "6281c8ec",
   "metadata": {},
   "outputs": [
    {
     "name": "stdout",
     "output_type": "stream",
     "text": [
      "RM 50.00 was withdrawed from the account of ID 1001\n"
     ]
    }
   ],
   "source": [
    "# Calling withdraw method of the class from the object balance\n",
    "\n",
    "user_1001.withdraw(50)"
   ]
  },
  {
   "cell_type": "code",
   "execution_count": 6,
   "id": "26d177ea",
   "metadata": {},
   "outputs": [
    {
     "name": "stdout",
     "output_type": "stream",
     "text": [
      "------Account Balance--------------\n",
      "\n",
      "Name: Gary\n",
      "Account ID: 1001        \n",
      "Account Balance: RM 150.00\n",
      "\n",
      "-----------------------------------\n"
     ]
    }
   ],
   "source": [
    "print(user_1001)"
   ]
  },
  {
   "cell_type": "markdown",
   "id": "2856ca91",
   "metadata": {},
   "source": [
    "### Question 2"
   ]
  },
  {
   "cell_type": "code",
   "execution_count": 7,
   "id": "e6a4d32c",
   "metadata": {},
   "outputs": [],
   "source": [
    "# Lets define the child class DevAccount that inherited all the attributes of the parent class Account\n",
    "\n",
    "class DevAccount(Account):\n",
    "    \n",
    "    def get_balance(self):\n",
    "        print(\"The balance available in the account of user ID {} is RM {:.2f}\".format(self.Id, self.balance))\n",
    "        \n",
    "    def set_balance(self, balance):\n",
    "        self.balance = balance\n",
    "        print(\"The new balance of the account of user ID {} is RM {:.2f}\".format(self.Id, self.balance))\n",
    "        \n",
    "    def transfer(self, recepient, amount):\n",
    "        if amount> self.balance:\n",
    "            print(\"Insufficient balance in the account of ID {}\".format(self.Id))\n",
    "            \n",
    "        else:\n",
    "            self.withdraw(amount)\n",
    "            recepient.deposit(amount)\n",
    "\n",
    "    "
   ]
  },
  {
   "cell_type": "code",
   "execution_count": 8,
   "id": "75fcf041",
   "metadata": {},
   "outputs": [],
   "source": [
    "# Instantiate the child object\n",
    "\n",
    "user_1002 = DevAccount(1002, 'Adam', 0)"
   ]
  },
  {
   "cell_type": "code",
   "execution_count": 9,
   "id": "a6404711",
   "metadata": {},
   "outputs": [
    {
     "name": "stdout",
     "output_type": "stream",
     "text": [
      "------Account Balance--------------\n",
      "\n",
      "Name: Adam\n",
      "Account ID: 1002        \n",
      "Account Balance: RM 0.00\n",
      "\n",
      "-----------------------------------\n"
     ]
    }
   ],
   "source": [
    "# We can access the method of the parent class from child object\n",
    "\n",
    "print(user_1002)"
   ]
  },
  {
   "cell_type": "code",
   "execution_count": 10,
   "id": "9eb23732",
   "metadata": {},
   "outputs": [
    {
     "name": "stdout",
     "output_type": "stream",
     "text": [
      "The balance available in the account of user ID 1002 is RM 0.00\n"
     ]
    }
   ],
   "source": [
    "# Getting the balance of child object\n",
    "\n",
    "user_1002.get_balance()"
   ]
  },
  {
   "cell_type": "code",
   "execution_count": 11,
   "id": "1bce6541",
   "metadata": {},
   "outputs": [
    {
     "name": "stdout",
     "output_type": "stream",
     "text": [
      "The new balance of the account of user ID 1002 is RM 100.00\n"
     ]
    }
   ],
   "source": [
    "# Overwrite the balance of child object\n",
    "\n",
    "user_1002.set_balance(100)"
   ]
  },
  {
   "cell_type": "code",
   "execution_count": 12,
   "id": "02447ad7",
   "metadata": {},
   "outputs": [
    {
     "name": "stdout",
     "output_type": "stream",
     "text": [
      "------Account Balance--------------\n",
      "\n",
      "Name: Adam\n",
      "Account ID: 1002        \n",
      "Account Balance: RM 100.00\n",
      "\n",
      "-----------------------------------\n"
     ]
    }
   ],
   "source": [
    "print(user_1002)"
   ]
  },
  {
   "cell_type": "code",
   "execution_count": 13,
   "id": "878aa049",
   "metadata": {},
   "outputs": [
    {
     "name": "stdout",
     "output_type": "stream",
     "text": [
      "RM 100.00 was withdrawed from the account of ID 1002\n",
      "RM 100.00 was deposited into the account of ID 1001\n"
     ]
    }
   ],
   "source": [
    "# Lets transfer some amount from user_1002 (child) to user_1001\n",
    "\n",
    "user_1002.transfer(user_1001, 100)"
   ]
  },
  {
   "cell_type": "code",
   "execution_count": 14,
   "id": "94e3fa35",
   "metadata": {},
   "outputs": [
    {
     "name": "stdout",
     "output_type": "stream",
     "text": [
      "------Account Balance--------------\n",
      "\n",
      "Name: Gary\n",
      "Account ID: 1001        \n",
      "Account Balance: RM 250.00\n",
      "\n",
      "-----------------------------------\n"
     ]
    }
   ],
   "source": [
    "print(user_1001)"
   ]
  },
  {
   "cell_type": "code",
   "execution_count": 15,
   "id": "78cdd086",
   "metadata": {},
   "outputs": [
    {
     "name": "stdout",
     "output_type": "stream",
     "text": [
      "------Account Balance--------------\n",
      "\n",
      "Name: Adam\n",
      "Account ID: 1002        \n",
      "Account Balance: RM 0.00\n",
      "\n",
      "-----------------------------------\n"
     ]
    }
   ],
   "source": [
    "print(user_1002)"
   ]
  },
  {
   "cell_type": "code",
   "execution_count": 16,
   "id": "54c8227f",
   "metadata": {},
   "outputs": [
    {
     "name": "stdout",
     "output_type": "stream",
     "text": [
      "Insufficient balance in the account of ID 1002\n"
     ]
    }
   ],
   "source": [
    "# Since the balance in the user_1002 is 0, it should not transfer any amount due to insufficient balance\n",
    "\n",
    "user_1002.transfer(user_1001, 100)"
   ]
  },
  {
   "cell_type": "code",
   "execution_count": 17,
   "id": "12c35f0b",
   "metadata": {},
   "outputs": [
    {
     "name": "stdout",
     "output_type": "stream",
     "text": [
      "------Account Balance--------------\n",
      "\n",
      "Name: Gary\n",
      "Account ID: 1001        \n",
      "Account Balance: RM 250.00\n",
      "\n",
      "-----------------------------------\n"
     ]
    }
   ],
   "source": [
    "print(user_1001)"
   ]
  },
  {
   "cell_type": "code",
   "execution_count": 18,
   "id": "d870b7ce",
   "metadata": {},
   "outputs": [
    {
     "name": "stdout",
     "output_type": "stream",
     "text": [
      "------Account Balance--------------\n",
      "\n",
      "Name: Adam\n",
      "Account ID: 1002        \n",
      "Account Balance: RM 0.00\n",
      "\n",
      "-----------------------------------\n"
     ]
    }
   ],
   "source": [
    "print(user_1002)"
   ]
  },
  {
   "cell_type": "code",
   "execution_count": 19,
   "id": "f2238685",
   "metadata": {
    "scrolled": true
   },
   "outputs": [
    {
     "ename": "AttributeError",
     "evalue": "'Account' object has no attribute 'get_balance'",
     "output_type": "error",
     "traceback": [
      "\u001b[1;31m---------------------------------------------------------------------------\u001b[0m",
      "\u001b[1;31mAttributeError\u001b[0m                            Traceback (most recent call last)",
      "\u001b[1;32m<ipython-input-19-5367adb574a9>\u001b[0m in \u001b[0;36m<module>\u001b[1;34m\u001b[0m\n\u001b[0;32m      1\u001b[0m \u001b[1;31m# The parent class cannot call the child method due to inheritance\u001b[0m\u001b[1;33m\u001b[0m\u001b[1;33m\u001b[0m\u001b[1;33m\u001b[0m\u001b[0m\n\u001b[0;32m      2\u001b[0m \u001b[1;33m\u001b[0m\u001b[0m\n\u001b[1;32m----> 3\u001b[1;33m \u001b[0muser_1001\u001b[0m\u001b[1;33m.\u001b[0m\u001b[0mget_balance\u001b[0m\u001b[1;33m\u001b[0m\u001b[1;33m\u001b[0m\u001b[0m\n\u001b[0m",
      "\u001b[1;31mAttributeError\u001b[0m: 'Account' object has no attribute 'get_balance'"
     ]
    }
   ],
   "source": [
    "# The parent class cannot call the child method due to inheritance \n",
    "\n",
    "user_1001.get_balance"
   ]
  },
  {
   "cell_type": "code",
   "execution_count": null,
   "id": "31a16c89",
   "metadata": {},
   "outputs": [],
   "source": []
  }
 ],
 "metadata": {
  "kernelspec": {
   "display_name": "Python 3",
   "language": "python",
   "name": "python3"
  },
  "language_info": {
   "codemirror_mode": {
    "name": "ipython",
    "version": 3
   },
   "file_extension": ".py",
   "mimetype": "text/x-python",
   "name": "python",
   "nbconvert_exporter": "python",
   "pygments_lexer": "ipython3",
   "version": "3.8.8"
  }
 },
 "nbformat": 4,
 "nbformat_minor": 5
}
