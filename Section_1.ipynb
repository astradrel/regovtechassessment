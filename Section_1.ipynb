{
 "cells": [
  {
   "cell_type": "markdown",
   "id": "6ab8f17d",
   "metadata": {},
   "source": [
    "\n",
    "\n",
    "# ReGOV Training Assessment - Ahmad Khairi Bin Ahmad Khir"
   ]
  },
  {
   "cell_type": "markdown",
   "id": "d3dc470b",
   "metadata": {},
   "source": [
    "## Section 1"
   ]
  },
  {
   "cell_type": "markdown",
   "id": "f0161c9e",
   "metadata": {},
   "source": [
    "### Question 1"
   ]
  },
  {
   "cell_type": "markdown",
   "id": "e4b190c0",
   "metadata": {},
   "source": [
    "Please complete the following and send the assessment to the email address provided.\n",
    "\n",
    "Question 1\n",
    "Using NO BUILT IN LIBRARIES, write a program that satisfies the following problem:\n",
    "\n",
    "n! means n × (n − 1) × ... × 3 × 2 × 1\n",
    "\n",
    "For example, 10! = 10 × 9 × ... × 3 × 2 × 1 = 3628800, and the sum of the digits in the number 10! is 3 + 6 + 2 + 8 + 8 + 0 + 0 = 27.\n",
    "\n",
    "Find the sum of the digits in the number 100!"
   ]
  },
  {
   "cell_type": "code",
   "execution_count": 1,
   "id": "9d824c67",
   "metadata": {},
   "outputs": [
    {
     "name": "stdout",
     "output_type": "stream",
     "text": [
      "93326215443944152681699238856266700490715968264381621468592963895217599993229915608941463976156518286253697920827223758251185210916864000000000000000000000000\n"
     ]
    }
   ],
   "source": [
    "factor = 100\n",
    "sum_factor = 1\n",
    "\n",
    "for x in range(1,factor+1,1):\n",
    "    sum_factor *= x\n",
    "    \n",
    "print(sum_factor)"
   ]
  }
 ],
 "metadata": {
  "kernelspec": {
   "display_name": "Python 3",
   "language": "python",
   "name": "python3"
  },
  "language_info": {
   "codemirror_mode": {
    "name": "ipython",
    "version": 3
   },
   "file_extension": ".py",
   "mimetype": "text/x-python",
   "name": "python",
   "nbconvert_exporter": "python",
   "pygments_lexer": "ipython3",
   "version": "3.8.8"
  }
 },
 "nbformat": 4,
 "nbformat_minor": 5
}
